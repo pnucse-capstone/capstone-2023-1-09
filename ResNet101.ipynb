{
 "cells": [
  {
   "cell_type": "code",
   "execution_count": 1,
   "metadata": {
    "colab": {
     "base_uri": "https://localhost:8080/"
    },
    "executionInfo": {
     "elapsed": 4933,
     "status": "ok",
     "timestamp": 1692605131921,
     "user": {
      "displayName": "암투",
      "userId": "06770472083196615310"
     },
     "user_tz": -540
    },
    "id": "TfvTHCqq3LzQ",
    "outputId": "753a5c02-2f9b-4752-c85f-b681737256be"
   },
   "outputs": [],
   "source": [
    "#pip install wfdb"
   ]
  },
  {
   "cell_type": "code",
   "execution_count": 2,
   "metadata": {},
   "outputs": [],
   "source": [
    "#pip install matplotlib"
   ]
  },
  {
   "cell_type": "code",
   "execution_count": 3,
   "metadata": {
    "colab": {
     "base_uri": "https://localhost:8080/"
    },
    "executionInfo": {
     "elapsed": 6001,
     "status": "ok",
     "timestamp": 1692605155269,
     "user": {
      "displayName": "암투",
      "userId": "06770472083196615310"
     },
     "user_tz": -540
    },
    "id": "WUhic8foB1EJ",
    "outputId": "711d6f10-cd97-459d-ecc9-ae7185cac4d9"
   },
   "outputs": [],
   "source": [
    "#pip install torchmetrics"
   ]
  },
  {
   "cell_type": "code",
   "execution_count": 4,
   "metadata": {
    "colab": {
     "base_uri": "https://localhost:8080/"
    },
    "executionInfo": {
     "elapsed": 6136,
     "status": "ok",
     "timestamp": 1692605167807,
     "user": {
      "displayName": "암투",
      "userId": "06770472083196615310"
     },
     "user_tz": -540
    },
    "id": "lUly0IXB47fF",
    "outputId": "0d1c68b2-7005-4b45-b619-ba8bfaa61930"
   },
   "outputs": [
    {
     "name": "stdout",
     "output_type": "stream",
     "text": [
      "True\n"
     ]
    }
   ],
   "source": [
    "import torch\n",
    "\n",
    "print(torch.cuda.is_available())\n",
    "device = torch.device(\"cuda\" if torch.cuda.is_available() else \"cpu\")"
   ]
  },
  {
   "cell_type": "code",
   "execution_count": 5,
   "metadata": {
    "executionInfo": {
     "elapsed": 1339953,
     "status": "ok",
     "timestamp": 1692606524903,
     "user": {
      "displayName": "암투",
      "userId": "06770472083196615310"
     },
     "user_tz": -540
    },
    "id": "-oh0hNXG3WLk"
   },
   "outputs": [],
   "source": [
    "import pandas as pd\n",
    "import numpy as np\n",
    "import wfdb\n",
    "import ast\n",
    "import time\n",
    "\n",
    "# ECG 데이터 로드 함수\n",
    "def load_raw_data(df, sampling_rate, path):\n",
    "    if sampling_rate == 100:\n",
    "        data = [wfdb.rdsamp(path+f) for f in df.filename_lr]\n",
    "    else:\n",
    "        data = [wfdb.rdsamp(path+f) for f in df.filename_hr]\n",
    "    data = np.array([signal for signal, meta in data])\n",
    "    return data\n",
    "\n",
    "# 데이터 경로 설정\n",
    "path = './'\n",
    "sampling_rate=500\n",
    "\n",
    "# ptbxl_database.csv 파일로부터 진단 정보 로드\n",
    "Y = pd.read_csv(path+'ptbxl_database.csv', index_col='ecg_id')\n",
    "Y.scp_codes = Y.scp_codes.apply(lambda x: ast.literal_eval(x))\n",
    "\n",
    "# 원본 신호 데이터 로드\n",
    "X = load_raw_data(Y, sampling_rate, path)\n",
    "\n",
    "# scp_statements.csv 파일로부터 진단 정보 집계를 위한 데이터 로드\n",
    "agg_df = pd.read_csv(path+'scp_statements.csv', index_col=0)\n",
    "agg_df = agg_df[agg_df.diagnostic == 1]\n",
    "\n",
    "# 진단 정보를 집계하는 함수 정의\n",
    "def aggregate_diagnostic(y_dic):\n",
    "    tmp = []\n",
    "    for key in y_dic.keys():\n",
    "        if key in agg_df.index:\n",
    "            tmp.append(agg_df.loc[key].diagnostic_class)\n",
    "    return list(set(tmp))\n",
    "\n",
    "# 진단 정보를 집계하여 대표 클래스로 변환하여 데이터프레임에 추가\n",
    "Y['diagnostic_superclass'] = Y.scp_codes.apply(aggregate_diagnostic)\n",
    "\n",
    "# 데이터를 학습용과 테스트용 으로 분할\n",
    "#strat_fold = 10인 부분을 테스트 데이터로 사용\n",
    "test_fold = 10\n",
    "# Train\n",
    "X_train = X[np.where(Y.strat_fold != test_fold)]\n",
    "y_train = Y[(Y.strat_fold != test_fold)].diagnostic_superclass\n",
    "# Test\n",
    "X_test = X[np.where(Y.strat_fold == test_fold)]\n",
    "y_test = Y[Y.strat_fold == test_fold].diagnostic_superclass"
   ]
  },
  {
   "cell_type": "code",
   "execution_count": 6,
   "metadata": {
    "executionInfo": {
     "elapsed": 1476,
     "status": "ok",
     "timestamp": 1692607403903,
     "user": {
      "displayName": "암투",
      "userId": "06770472083196615310"
     },
     "user_tz": -540
    },
    "id": "rWqbcDNrB1EO"
   },
   "outputs": [],
   "source": [
    "from sklearn.model_selection import train_test_split\n",
    "\n",
    "# train data 중 25%를 validation data로 활용\n",
    "X_train, X_val, y_train, y_val = train_test_split(X_train, y_train, test_size=0.25, random_state=42)"
   ]
  },
  {
   "cell_type": "code",
   "execution_count": 7,
   "metadata": {
    "colab": {
     "base_uri": "https://localhost:8080/"
    },
    "executionInfo": {
     "elapsed": 389,
     "status": "ok",
     "timestamp": 1692607410579,
     "user": {
      "displayName": "암투",
      "userId": "06770472083196615310"
     },
     "user_tz": -540
    },
    "id": "RUVuihcjKQO-",
    "outputId": "09759ed6-108f-4a80-c6c2-75f3c20a5bde"
   },
   "outputs": [
    {
     "name": "stdout",
     "output_type": "stream",
     "text": [
      "(14725, 5000, 12)\n",
      "(4909, 5000, 12)\n",
      "(2203, 5000, 12)\n",
      "(14725,)\n",
      "(4909,)\n",
      "(2203,)\n",
      "(14725, 5)\n",
      "(4909, 5)\n",
      "(2203, 5)\n",
      "(14725, 12, 5000)\n",
      "(4909, 12, 5000)\n",
      "(2203, 12, 5000)\n"
     ]
    }
   ],
   "source": [
    "from sklearn.preprocessing import MultiLabelBinarizer\n",
    "\n",
    "print(X_train.shape)\n",
    "print(X_val.shape)\n",
    "print(X_test.shape)\n",
    "print(y_train.shape)\n",
    "print(y_val.shape)\n",
    "print(y_test.shape)\n",
    "\n",
    "#레이블을 원-핫 인코딩 형식으로 변환\n",
    "mlb = MultiLabelBinarizer()\n",
    "y_train_encoded = mlb.fit_transform(y_train)\n",
    "y_val_encoded = mlb.fit_transform(y_val)\n",
    "y_test_encoded = mlb.transform(y_test)\n",
    "\n",
    "print(y_train_encoded.shape)\n",
    "print(y_val_encoded.shape)\n",
    "print(y_test_encoded.shape)\n",
    "\n",
    "# 모델에 input 하기 위해 permute\n",
    "X_train_permuted = X_train.transpose(0, 2, 1)\n",
    "X_val_permuted = X_val.transpose(0, 2, 1)\n",
    "X_test_permuted = X_test.transpose(0, 2, 1)\n",
    "\n",
    "print(X_train_permuted.shape)\n",
    "print(X_val_permuted.shape)\n",
    "print(X_test_permuted.shape)"
   ]
  },
  {
   "cell_type": "code",
   "execution_count": 8,
   "metadata": {
    "executionInfo": {
     "elapsed": 1,
     "status": "ok",
     "timestamp": 1692607413346,
     "user": {
      "displayName": "암투",
      "userId": "06770472083196615310"
     },
     "user_tz": -540
    },
    "id": "29OXYBpWB1ER"
   },
   "outputs": [],
   "source": [
    "import torch.nn as nn\n",
    "import torch.optim as optim\n",
    "import torch.nn.functional as F\n",
    "from torch.utils.data import DataLoader, TensorDataset"
   ]
  },
  {
   "cell_type": "code",
   "execution_count": 9,
   "metadata": {
    "executionInfo": {
     "elapsed": 355,
     "status": "ok",
     "timestamp": 1692609700355,
     "user": {
      "displayName": "암투",
      "userId": "06770472083196615310"
     },
     "user_tz": -540
    },
    "id": "4M2FDXNMB1ET"
   },
   "outputs": [],
   "source": [
    "class IdentityShortcut(nn.Module):\n",
    "    \"\"\"\n",
    "        A class to make Identity Mapping Shortcut\n",
    "\n",
    "        Attributes:\n",
    "            pooling : A max pooling layer\n",
    "            extra_cahnnel : The difference between input an output channels\n",
    "    \"\"\"\n",
    "    def __init__(self, in_channels, out_channels, stride):\n",
    "        \"\"\"\n",
    "            Initialize the Identity Shortcut Class\n",
    "\n",
    "            Args:\n",
    "                in_channels: number of input channels\n",
    "                out_channels: number of output channels\n",
    "                stride: size of stride\n",
    "\n",
    "            Returns:\n",
    "                None\n",
    "        \"\"\"\n",
    "        super().__init__()\n",
    "        self.pooling = nn.MaxPool1d(1, stride=stride)\n",
    "        self.extra_channel = out_channels - in_channels\n",
    "\n",
    "    def forward(self, x):\n",
    "        x = F.pad(x, (0, 0, 0, self.extra_channel))\n",
    "        x = self.pooling(x)\n",
    "        return x\n",
    "\n",
    "class ResidualBlock(nn.Module):\n",
    "    \"\"\"\n",
    "        A class about residual block\n",
    "\n",
    "        When stride == 1, just add input value to output of residual block\n",
    "        When stride == 2, process the input value according to shortcut type and add it to output of residual block\n",
    "        Attributes:\n",
    "            residual_blcok: A sequential container to sequentially configure the layers for residual learning\n",
    "            shortcut: A shortcut connection of residual block\n",
    "            relu: A relu activation layer\n",
    "    \"\"\"\n",
    "    def __init__(self, in_channels, out_channels, kernel_size, stride, shortcut_type=None, dropout_prob=0.2):\n",
    "        \"\"\"\n",
    "            Initialize the residual block\n",
    "\n",
    "            Args:\n",
    "                in_channels: The number of input channels\n",
    "                out_channels: The number of output channels\n",
    "                kernel_size: The number of kernnel size in the convolution layers\n",
    "                stride: The size of stride\n",
    "                shortcut_type: The type of shortcut connection when stride is not 1\n",
    "            Returns:\n",
    "                None\n",
    "        \"\"\"\n",
    "        super().__init__()\n",
    "        self.residual_block = nn.Sequential(\n",
    "            nn.Conv1d(in_channels, out_channels, kernel_size, stride, padding=1, bias=False),\n",
    "            nn.BatchNorm1d(out_channels),\n",
    "            nn.ReLU(),\n",
    "            nn.Dropout(dropout_prob),  # dropout 레이어 추가\n",
    "            nn.Conv1d(out_channels, out_channels, kernel_size, padding=1, bias=False),\n",
    "            nn.BatchNorm1d(out_channels),\n",
    "        )\n",
    "\n",
    "        self.shortcut = nn.Sequential()\n",
    "        self.relu = nn.ReLU()\n",
    "\n",
    "        if stride != 1:\n",
    "            if shortcut_type == 'A':\n",
    "                self.shortcut = IdentityShortcut(in_channels, out_channels, stride)\n",
    "            elif shortcut_type == 'B':\n",
    "                self.shortcut = nn.Sequential(\n",
    "                    nn.Conv2d(in_channels, out_channels, 1, stride),\n",
    "                    nn.BatchNorm2d(out_channels)\n",
    "                )\n",
    "\n",
    "\n",
    "    def forward(self, x):\n",
    "        x = self.residual_block(x) + self.shortcut(x)\n",
    "        x = self.relu(x)\n",
    "        return x\n",
    "\n",
    "class ResNet(nn.Module):\n",
    "    \"\"\"\n",
    "        A class about residual network\n",
    "\n",
    "        Attributes:\n",
    "            conv1_x: First set of layers\n",
    "            conv2_x: Second set of residual blocks\n",
    "            conv3_x: Third set of residual blocks\n",
    "            conv4_x: Fourth set of residual blocks\n",
    "            avg_pool: A average pooling layer of residual network\n",
    "            flatten: A flatten layer for the fully connected layer\n",
    "            fc: A fully connected layer to get probability of each class about given image\n",
    "    \"\"\"\n",
    "    def __init__(self, conv_num, num_classes, dropout_prob=0.2):\n",
    "        \"\"\"\n",
    "            Initialize the residual network\n",
    "\n",
    "            Args:\n",
    "                conv_num: The number of residual blocks in each set of residual block\n",
    "                num_classes: The number of classes to predict\n",
    "            Returns:\n",
    "                None\n",
    "        \"\"\"\n",
    "        super().__init__()\n",
    "        self.conv1_x = nn.Sequential(\n",
    "            nn.Conv1d(12, 16, kernel_size=3, stride=1, padding=1, bias=False),\n",
    "            nn.BatchNorm1d(16),\n",
    "            nn.ReLU()\n",
    "        )\n",
    "\n",
    "        self.conv2_x = nn.Sequential(*[ResidualBlock(16, 16, 3, 1) for _ in range(conv_num[0])])\n",
    "        self.conv3_x = nn.Sequential(ResidualBlock(16, 32, 3, 2, 'A'), *[ResidualBlock(32, 32, 3, 1) for _ in range(conv_num[1] - 1)])\n",
    "        self.conv4_x = nn.Sequential(ResidualBlock(32, 64, 3, 2, 'A'), *[ResidualBlock(64, 64, 3, 1) for _ in range(conv_num[2] - 1)])\n",
    "        self.conv5_x = nn.Sequential(ResidualBlock(64, 128, 3, 2, 'A'), *[ResidualBlock(128, 128, 3, 1) for _ in range(conv_num[3] - 1)])\n",
    "\n",
    "        #self.avg_pool = nn.AdaptiveAvgPool2d((1, 1))\n",
    "        self.avg_pool = nn.AvgPool1d(64, stride=64)\n",
    "        self.flatten = nn.Flatten()\n",
    "\n",
    "\n",
    "        self.fc = nn.Linear(in_features=1152, out_features=num_classes)\n",
    "\n",
    "\n",
    "        for m in self.modules():\n",
    "            if isinstance(m, nn.Conv2d):\n",
    "                nn.init.kaiming_normal_(m.weight, mode='fan_out', nonlinearity='relu')\n",
    "                if m.bias is not None:\n",
    "                    nn.init.constant_(m.bias, 0)\n",
    "            elif isinstance(m, nn.BatchNorm2d):\n",
    "                nn.init.constant_(m.weight, 1)\n",
    "                nn.init.constant_(m.bias, 0)\n",
    "            elif isinstance(m, nn.Linear):\n",
    "                nn.init.normal_(m.weight, 0, 0.01)\n",
    "                nn.init.constant_(m.bias, 0)\n",
    "\n",
    "\n",
    "    def forward(self, x):\n",
    "        x = self.conv1_x(x)\n",
    "        #print(\"After conv1_x:\", x.shape)\n",
    "        x = self.conv2_x(x)\n",
    "        #print(\"After conv2_x:\", x.shape)\n",
    "        x = self.conv3_x(x)\n",
    "        #print(\"After conv3_x:\", x.shape)\n",
    "        x = self.conv4_x(x)\n",
    "        #print(\"After conv4_x:\", x.shape)\n",
    "        x = self.conv5_x(x)\n",
    "        #print(\"After conv5_x:\", x.shape)\n",
    "        x = self.avg_pool(x)\n",
    "\n",
    "        # 입력 데이터 차원을 conv 레이어의 입력 크기에 맞게\n",
    "        x = x.view(x.size(0), x.size(1) * x.size(2))\n",
    "\n",
    "        # 변환된 입력 데이터의 shape 출력\n",
    "        #print(\"Reshaped Input shape:\", x.shape)\n",
    "\n",
    "        x = self.fc(x)\n",
    "        return x"
   ]
  },
  {
   "cell_type": "code",
   "execution_count": 10,
   "metadata": {
    "colab": {
     "base_uri": "https://localhost:8080/"
    },
    "executionInfo": {
     "elapsed": 127158,
     "status": "ok",
     "timestamp": 1692609833003,
     "user": {
      "displayName": "암투",
      "userId": "06770472083196615310"
     },
     "user_tz": -540
    },
    "id": "nXQAPCqsB1EX",
    "outputId": "d1a790c8-320f-4d6e-fa11-eb6b84488e5c"
   },
   "outputs": [
    {
     "name": "stdout",
     "output_type": "stream",
     "text": [
      "Epoch [1/50], Train Loss: 48.8653, Train Accuracy: 0.8113, Validation Loss: 0.4305, Validation Accuracy: 0.8025\n",
      "Epoch [2/50], Train Loss: 41.7664, Train Accuracy: 0.8452, Validation Loss: 0.3582, Validation Accuracy: 0.8484\n",
      "Epoch [3/50], Train Loss: 39.4822, Train Accuracy: 0.8570, Validation Loss: 0.3320, Validation Accuracy: 0.8630\n",
      "Epoch [4/50], Train Loss: 37.5207, Train Accuracy: 0.8659, Validation Loss: 0.3211, Validation Accuracy: 0.8644\n",
      "Epoch [5/50], Train Loss: 37.1810, Train Accuracy: 0.8668, Validation Loss: 0.3501, Validation Accuracy: 0.8483\n",
      "Epoch [6/50], Train Loss: 35.7009, Train Accuracy: 0.8724, Validation Loss: 0.2956, Validation Accuracy: 0.8786\n",
      "Epoch [7/50], Train Loss: 35.0279, Train Accuracy: 0.8755, Validation Loss: 0.3019, Validation Accuracy: 0.8762\n",
      "Epoch [8/50], Train Loss: 34.6807, Train Accuracy: 0.8774, Validation Loss: 0.3101, Validation Accuracy: 0.8765\n",
      "Epoch [9/50], Train Loss: 34.0114, Train Accuracy: 0.8794, Validation Loss: 0.3061, Validation Accuracy: 0.8784\n",
      "Epoch [10/50], Train Loss: 33.5221, Train Accuracy: 0.8804, Validation Loss: 0.3069, Validation Accuracy: 0.8766\n",
      "Epoch [11/50], Train Loss: 33.5470, Train Accuracy: 0.8826, Validation Loss: 0.3016, Validation Accuracy: 0.8765\n",
      "Epoch [12/50], Train Loss: 33.4524, Train Accuracy: 0.8818, Validation Loss: 0.2981, Validation Accuracy: 0.8787\n",
      "Epoch [13/50], Train Loss: 32.8341, Train Accuracy: 0.8835, Validation Loss: 0.2908, Validation Accuracy: 0.8823\n",
      "Epoch [14/50], Train Loss: 32.4437, Train Accuracy: 0.8866, Validation Loss: 0.2940, Validation Accuracy: 0.8807\n",
      "Epoch [15/50], Train Loss: 32.2878, Train Accuracy: 0.8871, Validation Loss: 0.2950, Validation Accuracy: 0.8816\n",
      "Epoch [16/50], Train Loss: 31.9045, Train Accuracy: 0.8883, Validation Loss: 0.2877, Validation Accuracy: 0.8854\n",
      "Epoch [17/50], Train Loss: 31.7252, Train Accuracy: 0.8882, Validation Loss: 0.2854, Validation Accuracy: 0.8862\n",
      "Epoch [18/50], Train Loss: 31.5858, Train Accuracy: 0.8898, Validation Loss: 0.2984, Validation Accuracy: 0.8843\n",
      "Epoch [19/50], Train Loss: 31.3721, Train Accuracy: 0.8896, Validation Loss: 0.2854, Validation Accuracy: 0.8846\n",
      "Epoch [20/50], Train Loss: 31.0558, Train Accuracy: 0.8910, Validation Loss: 0.2933, Validation Accuracy: 0.8828\n",
      "Epoch [21/50], Train Loss: 31.1103, Train Accuracy: 0.8917, Validation Loss: 0.2938, Validation Accuracy: 0.8785\n",
      "Epoch [22/50], Train Loss: 31.0673, Train Accuracy: 0.8906, Validation Loss: 0.2967, Validation Accuracy: 0.8838\n",
      "Epoch [23/50], Train Loss: 30.2742, Train Accuracy: 0.8931, Validation Loss: 0.2843, Validation Accuracy: 0.8843\n",
      "Epoch [24/50], Train Loss: 30.8502, Train Accuracy: 0.8922, Validation Loss: 0.2797, Validation Accuracy: 0.8884\n",
      "Epoch [25/50], Train Loss: 30.7347, Train Accuracy: 0.8917, Validation Loss: 0.2897, Validation Accuracy: 0.8853\n",
      "Epoch [26/50], Train Loss: 29.8582, Train Accuracy: 0.8951, Validation Loss: 0.3025, Validation Accuracy: 0.8809\n",
      "Epoch [27/50], Train Loss: 29.5583, Train Accuracy: 0.8962, Validation Loss: 0.3084, Validation Accuracy: 0.8774\n",
      "Epoch [28/50], Train Loss: 29.9465, Train Accuracy: 0.8949, Validation Loss: 0.2756, Validation Accuracy: 0.8895\n",
      "Epoch [29/50], Train Loss: 29.1297, Train Accuracy: 0.8965, Validation Loss: 0.2989, Validation Accuracy: 0.8840\n",
      "Epoch [30/50], Train Loss: 29.1063, Train Accuracy: 0.8974, Validation Loss: 0.2728, Validation Accuracy: 0.8906\n",
      "Epoch [31/50], Train Loss: 28.8012, Train Accuracy: 0.8989, Validation Loss: 0.2794, Validation Accuracy: 0.8878\n",
      "Epoch [32/50], Train Loss: 28.9610, Train Accuracy: 0.8969, Validation Loss: 0.2672, Validation Accuracy: 0.8925\n",
      "Epoch [33/50], Train Loss: 28.8152, Train Accuracy: 0.8999, Validation Loss: 0.2777, Validation Accuracy: 0.8874\n",
      "Epoch [34/50], Train Loss: 29.4441, Train Accuracy: 0.8957, Validation Loss: 0.3203, Validation Accuracy: 0.8787\n",
      "Epoch [35/50], Train Loss: 28.9121, Train Accuracy: 0.8988, Validation Loss: 0.2908, Validation Accuracy: 0.8853\n",
      "Epoch [36/50], Train Loss: 29.1860, Train Accuracy: 0.8998, Validation Loss: 0.2998, Validation Accuracy: 0.8811\n",
      "Epoch [37/50], Train Loss: 28.8545, Train Accuracy: 0.8976, Validation Loss: 0.2829, Validation Accuracy: 0.8904\n",
      "Epoch [38/50], Train Loss: 28.2442, Train Accuracy: 0.9003, Validation Loss: 0.2852, Validation Accuracy: 0.8865\n",
      "Epoch [39/50], Train Loss: 27.6902, Train Accuracy: 0.9015, Validation Loss: 0.2853, Validation Accuracy: 0.8886\n",
      "Epoch [40/50], Train Loss: 27.6124, Train Accuracy: 0.9028, Validation Loss: 0.2726, Validation Accuracy: 0.8919\n",
      "Epoch [41/50], Train Loss: 27.1595, Train Accuracy: 0.9045, Validation Loss: 0.2727, Validation Accuracy: 0.8906\n",
      "Epoch [42/50], Train Loss: 26.8803, Train Accuracy: 0.9044, Validation Loss: 0.2753, Validation Accuracy: 0.8916\n",
      "Epoch [43/50], Train Loss: 27.2560, Train Accuracy: 0.9041, Validation Loss: 0.2700, Validation Accuracy: 0.8912\n",
      "Epoch [44/50], Train Loss: 27.5888, Train Accuracy: 0.9043, Validation Loss: 0.2801, Validation Accuracy: 0.8885\n",
      "Epoch [45/50], Train Loss: 27.8428, Train Accuracy: 0.9018, Validation Loss: 0.2922, Validation Accuracy: 0.8884\n",
      "Epoch [46/50], Train Loss: 27.1805, Train Accuracy: 0.9044, Validation Loss: 0.2935, Validation Accuracy: 0.8843\n",
      "Epoch [47/50], Train Loss: 27.2790, Train Accuracy: 0.9041, Validation Loss: 0.2866, Validation Accuracy: 0.8896\n",
      "Epoch [48/50], Train Loss: 26.8253, Train Accuracy: 0.9048, Validation Loss: 0.2721, Validation Accuracy: 0.8910\n",
      "Epoch [49/50], Train Loss: 26.4167, Train Accuracy: 0.9058, Validation Loss: 0.2908, Validation Accuracy: 0.8854\n",
      "Epoch [50/50], Train Loss: 25.9197, Train Accuracy: 0.9085, Validation Loss: 0.2769, Validation Accuracy: 0.8915\n",
      "Test Loss: 0.3097, Test Accuracy: 0.8773\n",
      "It took 1465.5892436504364 seconds to run\n"
     ]
    }
   ],
   "source": [
    "import torch\n",
    "import torch.nn as nn\n",
    "import torch.optim as optim\n",
    "from sklearn.metrics import accuracy_score\n",
    "from sklearn.metrics import roc_curve, auc\n",
    "from torchmetrics import Accuracy\n",
    "from sklearn.metrics import roc_auc_score  # 추가된 부분\n",
    "import matplotlib.pyplot as plt\n",
    "\n",
    "# 데이터 전처리 및 모델 정의 코드\n",
    "\n",
    "# 데이터셋에서 특성의 크기와 클래스 개수 가져오기\n",
    "input_features = X_train_permuted.shape[2]  # 입력 특성의 크기\n",
    "num_classes = y_train_encoded.shape[1]  # 클래스 개수\n",
    "\n",
    "# 하이퍼파라미터 설정\n",
    "learning_rate = 0.001\n",
    "batch_size = 128\n",
    "epochs = 50\n",
    "\n",
    "# 모델에 입력할 수 있는 shape으로 데이터 reshape\n",
    "X_train_reshaped = torch.tensor(X_train_permuted, dtype=torch.float32)\n",
    "X_val_reshaped = torch.tensor(X_val_permuted, dtype=torch.float32)\n",
    "X_test_reshaped = torch.tensor(X_test_permuted, dtype=torch.float32)\n",
    "\n",
    "# 레이블 데이터도 torch tensor로 변환\n",
    "y_train_tensor = torch.tensor(y_train_encoded, dtype=torch.float32)\n",
    "y_val_tensor = torch.tensor(y_val_encoded, dtype=torch.float32)\n",
    "y_test_tensor = torch.tensor(y_test_encoded, dtype=torch.float32)\n",
    "\n",
    "# 데이터 로더 생성\n",
    "train_dataset = torch.utils.data.TensorDataset(X_train_reshaped, y_train_tensor)\n",
    "train_loader = torch.utils.data.DataLoader(train_dataset, batch_size=batch_size, shuffle=True)\n",
    "\n",
    "val_dataset = torch.utils.data.TensorDataset(X_val_reshaped, y_val_tensor)\n",
    "val_loader = torch.utils.data.DataLoader(val_dataset, batch_size=batch_size, shuffle=False)\n",
    "\n",
    "test_dataset = torch.utils.data.TensorDataset(X_test_reshaped, y_test_tensor)\n",
    "test_loader = torch.utils.data.DataLoader(test_dataset, batch_size=batch_size, shuffle=False)\n",
    "\n",
    "# 모델 초기화 및 옵티마이저 설정(ResNet101)\n",
    "# ResNet152 : [3, 8, 36, 3]\n",
    "model = ResNet([3, 4, 23, 3], num_classes, dropout_prob=0.2).to('cuda')\n",
    "optimizer = optim.AdamW(model.parameters(), lr=learning_rate)\n",
    "criterion = nn.BCEWithLogitsLoss()\n",
    "\n",
    "def train_model(model, criterion, optimizer, num_epochs=10):\n",
    "    for epoch in range(num_epochs):\n",
    "        model.train()\n",
    "        train_loss = 0.0\n",
    "        train_correct = 0\n",
    "        train_total = 0\n",
    "        for inputs, labels in train_loader:\n",
    "            inputs, labels = inputs.to('cuda'), labels.to('cuda')\n",
    "            outputs = model(inputs)\n",
    "            loss = criterion(outputs, labels)\n",
    "            optimizer.zero_grad()\n",
    "            loss.backward()\n",
    "            optimizer.step()\n",
    "\n",
    "            # Train accuracy 계산\n",
    "            train_preds = torch.sigmoid(outputs).round()\n",
    "            train_correct += (train_preds == labels).sum().item()\n",
    "            train_total += labels.numel()\n",
    "            train_loss += loss.item()\n",
    "\n",
    "        train_accuracy = train_correct / train_total\n",
    "\n",
    "        # Validation loss 계산\n",
    "        model.eval()\n",
    "        val_loss = 0.0\n",
    "        val_correct = 0\n",
    "        val_total = 0\n",
    "        with torch.no_grad():\n",
    "            for val_inputs, val_labels in val_loader:\n",
    "                val_inputs, val_labels = val_inputs.to('cuda'), val_labels.to('cuda')\n",
    "                val_outputs = model(val_inputs)\n",
    "                val_loss += criterion(val_outputs, val_labels).item()\n",
    "\n",
    "                # Validation accuracy 계산\n",
    "                val_preds = torch.sigmoid(val_outputs).round()\n",
    "                val_correct += (val_preds == val_labels).sum().item()\n",
    "                val_total += val_labels.numel()\n",
    "\n",
    "        val_accuracy = val_correct / val_total\n",
    "        val_loss /= len(val_loader)\n",
    "\n",
    "        print(f\"Epoch [{epoch+1}/{num_epochs}], Train Loss: {train_loss:.4f}, Train Accuracy: {train_accuracy:.4f}, Validation Loss: {val_loss:.4f}, Validation Accuracy: {val_accuracy:.4f}\")\n",
    "\n",
    "    # 학습 완료 후 테스트 데이터로 평가\n",
    "    model.eval()\n",
    "    test_loss = 0.0\n",
    "    test_correct = 0\n",
    "    test_total = 0\n",
    "    with torch.no_grad():\n",
    "        for test_inputs, test_labels in test_loader:\n",
    "            test_inputs, test_labels = test_inputs.to('cuda'), test_labels.to('cuda')\n",
    "            test_outputs = model(test_inputs)\n",
    "            test_loss += criterion(test_outputs, test_labels).item()\n",
    "\n",
    "            # Test accuracy 계산\n",
    "            test_preds = torch.sigmoid(test_outputs).round()\n",
    "            test_correct += (test_preds == test_labels).sum().item()\n",
    "            test_total += test_labels.numel()\n",
    "\n",
    "    test_accuracy = test_correct / test_total\n",
    "    test_loss /= len(test_loader)\n",
    "\n",
    "    print(f\"Test Loss: {test_loss:.4f}, Test Accuracy: {test_accuracy:.4f}\")\n",
    "\n",
    "# 모델 학습\n",
    "start_time = time.time()\n",
    "train_model(model, criterion, optimizer, epochs)\n",
    "end_time = time.time()\n",
    "execution_time = end_time - start_time\n",
    "print(f\"It took {execution_time} seconds to run\")"
   ]
  },
  {
   "cell_type": "code",
   "execution_count": 12,
   "metadata": {},
   "outputs": [
    {
     "data": {
      "image/png": "[encoded data removed]",
      "text/plain": [
       "<Figure size 800x600 with 1 Axes>"
      ]
     },
     "metadata": {},
     "output_type": "display_data"
    },
    {
     "name": "stdout",
     "output_type": "stream",
     "text": [
      "Graphs plotted.\n"
     ]
    }
   ],
   "source": [
    "# 클래스 이름 가져오기 함수 정의\n",
    "def get_diagnostic_class(class_index):\n",
    "    class_names = ['STTC', 'NORM', 'MI', 'HYP', 'CD']\n",
    "    return class_names[class_index]\n",
    "\n",
    "# 각 클래스별 ROC AUC 평가 함수\n",
    "def calculate_roc_auc(outputs, targets):\n",
    "    roc_auc_scores = []\n",
    "    fpr_list = []\n",
    "    tpr_list = []\n",
    "    for i in range(outputs.shape[1]):\n",
    "        roc_auc = roc_auc_score(targets[:, i], outputs[:, i])\n",
    "        fpr, tpr, _ = roc_curve(targets[:, i], outputs[:, i])\n",
    "        roc_auc_scores.append(roc_auc)\n",
    "        fpr_list.append(fpr)\n",
    "        tpr_list.append(tpr)\n",
    "    return roc_auc_scores, fpr_list, tpr_list\n",
    "\n",
    "# 평가 함수를 수정하여 클래스별 ROC AUC 및 곡선 데이터를 반환하도록 변경\n",
    "def evaluate_model(model, dataloader):\n",
    "    model.eval()\n",
    "    all_outputs = []\n",
    "    all_targets = []\n",
    "    with torch.no_grad():\n",
    "        for inputs, labels in dataloader:\n",
    "            inputs, labels = inputs.to('cuda'), labels.to('cuda')\n",
    "            outputs = model(inputs)\n",
    "            all_outputs.append(torch.sigmoid(outputs).cpu().numpy())\n",
    "            all_targets.append(labels.cpu().numpy())\n",
    "\n",
    "    all_outputs = np.concatenate(all_outputs, axis=0)\n",
    "    all_targets = np.concatenate(all_targets, axis=0)\n",
    "\n",
    "    roc_auc_scores, fpr_list, tpr_list = calculate_roc_auc(all_outputs, all_targets)\n",
    "    return roc_auc_scores, fpr_list, tpr_list\n",
    "\n",
    "# 모델 평가 및 클래스별 ROC AUC 및 곡선 데이터 출력\n",
    "test_roc_auc_scores, fpr_list, tpr_list = evaluate_model(model, test_loader)\n",
    "\n",
    "# 그래프 생성\n",
    "plt.figure(figsize=(8, 6))\n",
    "for i, (fpr, tpr, roc_auc) in enumerate(zip(fpr_list, tpr_list, test_roc_auc_scores)):\n",
    "    class_name = get_diagnostic_class(i)  # 클래스 이름 가져오기\n",
    "    plt.plot(fpr, tpr, lw=2, label=f'{class_name} (AUC = {roc_auc:.4f})')\n",
    "\n",
    "# 그래프 설정\n",
    "plt.plot([0, 1], [0, 1], color='navy', lw=2, linestyle='--')\n",
    "plt.xlim([0.0, 1.0])\n",
    "plt.ylim([0.0, 1.05])\n",
    "plt.xlabel('False Positive Rate')\n",
    "plt.ylabel('True Positive Rate')\n",
    "plt.title('Receiver Operating Characteristic for Multiple Classes')\n",
    "plt.legend(loc=\"lower right\")\n",
    "plt.show()\n",
    "\n",
    "print(\"Graphs plotted.\")\n"
   ]
  },
  {
   "cell_type": "code",
   "execution_count": null,
   "metadata": {
    "id": "99uXGRNpB1Ea"
   },
   "outputs": [],
   "source": []
  },
  {
   "cell_type": "code",
   "execution_count": null,
   "metadata": {},
   "outputs": [],
   "source": []
  },
  {
   "cell_type": "code",
   "execution_count": null,
   "metadata": {},
   "outputs": [],
   "source": []
  }
 ],
 "metadata": {
  "accelerator": "GPU",
  "colab": {
   "gpuType": "T4",
   "provenance": []
  },
  "kernelspec": {
   "display_name": "Python 3 (ipykernel)",
   "language": "python",
   "name": "python3"
  },
  "language_info": {
   "codemirror_mode": {
    "name": "ipython",
    "version": 3
   },
   "file_extension": ".py",
   "mimetype": "text/x-python",
   "name": "python",
   "nbconvert_exporter": "python",
   "pygments_lexer": "ipython3",
   "version": "3.10.11"
  }
 },
 "nbformat": 4,
 "nbformat_minor": 4
}
